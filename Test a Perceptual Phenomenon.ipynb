{
 "cells": [
  {
   "cell_type": "markdown",
   "metadata": {},
   "source": [
    "### Analyzing the Stroop Effect\n",
    "Perform the analysis in the space below. Remember to follow [the instructions](https://docs.google.com/document/d/1-OkpZLjG_kX9J6LIQ5IltsqMzVWjh36QpnP2RYpVdPU/pub?embedded=True) and review the [project rubric](https://review.udacity.com/#!/rubrics/71/view) before submitting. Once you've completed the analysis and write up, download this file as a PDF or HTML file and submit in the final section of this lesson.\n",
    "\n",
    "\n",
    "(1) What is the independent variable? What is the dependent variable?"
   ]
  },
  {
   "cell_type": "markdown",
   "metadata": {},
   "source": [
    "**Dependent Variable:** Time taken to name the ink color of words in a list<br>\n",
    "**Independent Variable:** The condition of the words in the list, ie Congruent vs Non-Congruent"
   ]
  },
  {
   "cell_type": "markdown",
   "metadata": {},
   "source": [
    "(2) What is an appropriate set of hypotheses for this task? Specify your null and alternative hypotheses, and clearly define any notation used. Justify your choices."
   ]
  },
  {
   "cell_type": "markdown",
   "metadata": {},
   "source": [
    "The hypothesis is that words being incongruent causes participants to take a longer time naming the colors of the ink.\n",
    "\n",
    "**The null hypothesis ($H_o$)**: The words being incongruent does not increase the time taken to name the color of the word ink: $$H_o: \\mu_i \\leq \\mu_c$$ \n",
    "\n",
    "\n",
    "**The alternative hypothesis ($H_a$)**: The words being incongruent causes an increase in time taken to name the color of the word ink: $$H_a: \\mu_i \\gt \\mu_c$$\n",
    "\n",
    "$\\mu_i:$ Incongruent Population Mean<br>\n",
    "$\\mu_c:$ Congruent Population Mean\n",
    "\n",
    "\n",
    "I will be using a dependent positive one-tailed t-test to test this hypothesis. <br>\n",
    "\n",
    "This t-test includes the following assumptions:\n",
    "\n",
    "The scale of measurement applied to the data collected follows a continuous or ordinal scale<br>\n",
    "The data collected is from a simple random sample representative of the population<br>\n",
    "Sets of data used to produce the difference are linked in the population<br>\n",
    "Sample scores and difference scores are normally distributed <br>"
   ]
  },
  {
   "cell_type": "markdown",
   "metadata": {},
   "source": [
    "(3) Report some descriptive statistics regarding this dataset. Include at least one measure of central tendency and at least one measure of variability. The name of the data file is 'stroopdata.csv'."
   ]
  },
  {
   "cell_type": "code",
   "execution_count": 46,
   "metadata": {},
   "outputs": [
    {
     "data": {
      "text/markdown": [
       "$\\overline{X}_c$ : "
      ],
      "text/plain": [
       "<IPython.core.display.Markdown object>"
      ]
     },
     "metadata": {},
     "output_type": "display_data"
    },
    {
     "data": {
      "text/plain": [
       "14.051124999999999"
      ]
     },
     "metadata": {},
     "output_type": "display_data"
    },
    {
     "data": {
      "text/markdown": [
       "$\\overline{X}_i$ : "
      ],
      "text/plain": [
       "<IPython.core.display.Markdown object>"
      ]
     },
     "metadata": {},
     "output_type": "display_data"
    },
    {
     "data": {
      "text/plain": [
       "22.015916666666669"
      ]
     },
     "metadata": {},
     "output_type": "display_data"
    },
    {
     "data": {
      "text/markdown": [
       "$S_c$ : "
      ],
      "text/plain": [
       "<IPython.core.display.Markdown object>"
      ]
     },
     "metadata": {},
     "output_type": "display_data"
    },
    {
     "data": {
      "text/plain": [
       "3.559357957645195"
      ]
     },
     "metadata": {},
     "output_type": "display_data"
    },
    {
     "data": {
      "text/markdown": [
       "$S_i$ : "
      ],
      "text/plain": [
       "<IPython.core.display.Markdown object>"
      ]
     },
     "metadata": {},
     "output_type": "display_data"
    },
    {
     "data": {
      "text/plain": [
       "4.7970571224691376"
      ]
     },
     "metadata": {},
     "output_type": "display_data"
    }
   ],
   "source": [
    "import csv\n",
    "import numpy as np\n",
    "from IPython.display import Markdown as md\n",
    "\n",
    "with open('stroopdata.csv') as file:\n",
    "    data = csv.reader(file, delimiter=\",\")\n",
    "    has_header = csv.Sniffer().has_header(file.readline())\n",
    "    congruent, incongruent = [], []\n",
    "    for row in data:\n",
    "        congruent.append(float(row[0]))\n",
    "        incongruent.append(float(row[1]))\n",
    "    \n",
    "#Calculate the mean and sample standard deviation for both result sets\n",
    "congruent_mean = np.mean(congruent)\n",
    "incongruent_mean = np.mean(incongruent)\n",
    "congruent_std = np.std(congruent, ddof=1)\n",
    "incongruent_std = np.std(incongruent, ddof=1)\n",
    "\n",
    "#Display the results\n",
    "display(md(\"$\\overline{X}_c$ : \"),congruent_mean)\n",
    "display(md(\"$\\overline{X}_i$ : \"),incongruent_mean)\n",
    "display(md(\"$S_c$ : \"),congruent_std)\n",
    "display(md(\"$S_i$ : \"),incongruent_std)\n"
   ]
  },
  {
   "cell_type": "markdown",
   "metadata": {},
   "source": [
    "Run above code to generate the mean and the sample standard deviation for the congruent and incongruent result sets respectively"
   ]
  },
  {
   "cell_type": "markdown",
   "metadata": {},
   "source": [
    "(4) Provide one or two visualizations that show the distribution of the sample data. Write one or two sentences noting what you observe about the plot or plots."
   ]
  },
  {
   "cell_type": "code",
   "execution_count": 47,
   "metadata": {},
   "outputs": [
    {
     "data": {
      "image/png": "[encoded data removed]",
      "text/plain": [
       "<matplotlib.figure.Figure at 0x7f0bd57e4f98>"
      ]
     },
     "metadata": {},
     "output_type": "display_data"
    }
   ],
   "source": [
    "import pylab as plot\n",
    "import scipy.stats as stats\n",
    "\n",
    "congruent.sort()\n",
    "incongruent.sort()\n",
    "\n",
    "#Get the probability density function for both result sets\n",
    "congruent_pdf = stats.norm.pdf(congruent_sorted, congruent_mean, congruent_std) \n",
    "incongruent_pdf = stats.norm.pdf(incongruent_sorted, incongruent_mean, incongruent_std) \n",
    "\n",
    "#Plot the normal distribution for both result sets\n",
    "fig= plot.figure()\n",
    "fig.suptitle('Normal Distribution')\n",
    "plot.plot(congruent_sorted, congruent_pdf, '-o', color = 'b', label= 'Congruent')\n",
    "plot.plot(incongruent_sorted, incongruent_pdf, '-o', color = 'r', label = 'Incongruent')\n",
    "plot.legend()\n",
    "plot.show()"
   ]
  },
  {
   "cell_type": "markdown",
   "metadata": {},
   "source": [
    "The incongruent result set has a higher mean and slightly wider normal distribution than the congurent result set.<br> \n",
    "The incongruent result set also seems to contain a couple of outlier values"
   ]
  },
  {
   "cell_type": "markdown",
   "metadata": {},
   "source": [
    "(5)  Now, perform the statistical test and report your results. What is your confidence level or Type I error associated with your test? What is your conclusion regarding the hypotheses you set up? Did the results match up with your expectations? **Hint:**  Think about what is being measured on each individual, and what statistic best captures how an individual reacts in each environment."
   ]
  },
  {
   "cell_type": "code",
   "execution_count": 51,
   "metadata": {},
   "outputs": [],
   "source": [
    "import csv\n",
    "\n",
    "with open('stroopdata.csv') as file:\n",
    "    data = csv.reader(file, delimiter=\",\")\n",
    "    has_header = csv.Sniffer().has_header(file.readline())\n",
    "    congruent, incongruent = [], []\n",
    "    for row in data:\n",
    "        congruent.append(float(row[0]))\n",
    "        incongruent.append(float(row[1]))\n",
    "\n",
    "n = 24\n",
    "#Degree of Freedom\n",
    "df= n-1\n",
    "\n",
    "#Calculate t-critical for alpha = 0.05\n",
    "alpha = 0.05\n",
    "t_crit = stats.t.ppf(1-alpha, n)\n",
    "\n",
    "#Calculate Point Estimate\n",
    "diff_mean = incongruent_mean - congruent_mean\n",
    "\n",
    "#Calculate Sample Standard Deviation of difference\n",
    "congruent = np.array(congruent)\n",
    "incongruent = np.array(incongruent)\n",
    "diff = incongruent - congruent\n",
    "diff_std = np.std(diff, ddof=1)\n",
    "\n",
    "#Calculate Standard Error\n",
    "sem = diff_std / np.sqrt(n)\n",
    "\n",
    "#Calculate t-statistic\n",
    "t_stat = diff_mean / sem\n",
    "\n",
    "#Calculate P-value\n",
    "p_val = stats.t.sf(t_stat, df)\n"
   ]
  },
  {
   "cell_type": "markdown",
   "metadata": {},
   "source": [
    "A positive one-tailed t-test was carried out, below are the results for $\\alpha$ = 0.05. \n",
    "\n",
    "$t(24) = 8.02, p = 2.05\\mathrm{e}{-08}$, one-tailed\n",
    "\n",
    "Based on the above results ( **P-value** $\\lt \\alpha$ ), we can reject the null hypothesis with a high degree of confidence ( $p = 2.05\\mathrm{e}{-08}$ ).<br> \n",
    "We can therefore conclude that the mean increase in time taken ( $\\overline{X}_D = 7.96$ seconds ) to name ink colors for words in an incongruent condition compared to a congruent condition is statistically significant. The results of this test confiremd the expected effect that the words being incongruent increases the time it takes for participants to name the ink color."
   ]
  },
  {
   "cell_type": "markdown",
   "metadata": {},
   "source": [
    "(6) Optional: What do you think is responsible for the effects observed? Can you think of an alternative or similar task that would result in a similar effect? Some research about the problem will be helpful for thinking about these two questions!"
   ]
  },
  {
   "cell_type": "markdown",
   "metadata": {},
   "source": [
    "The effect seems to be related to how reading comes so naturally to the brain it actually requires effort to prevent the brain from carrying out that cognitive function. Although not necessarily a task, but a similiar phenomenon can be observed when watching a movie with subtitles. It requires a bit of concentration to prevent oneself from reading a movie line before hearing it. It turns out this phenomenon has been studied and is referred to as 'interference'.\n"
   ]
  },
  {
   "cell_type": "markdown",
   "metadata": {},
   "source": [
    "*Resources:*<br> \n",
    "https://stackoverflow.com<br>\n",
    "https://d2l.deakin.edu.au/d2l/eP/presentations/presentation_preview_popup.d2l?presId=67655\n",
    "http://www.psychology.emory.edu/clinical/bliwise/Tutorials/TOM/meanstests/assump.htm"
   ]
  }
 ],
 "metadata": {
  "kernelspec": {
   "display_name": "Python 3",
   "language": "python",
   "name": "python3"
  },
  "language_info": {
   "codemirror_mode": {
    "name": "ipython",
    "version": 3
   },
   "file_extension": ".py",
   "mimetype": "text/x-python",
   "name": "python",
   "nbconvert_exporter": "python",
   "pygments_lexer": "ipython3",
   "version": "3.6.3"
  }
 },
 "nbformat": 4,
 "nbformat_minor": 2
}
